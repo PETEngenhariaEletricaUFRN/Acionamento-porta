{
 "cells": [
  {
   "cell_type": "code",
   "execution_count": 1,
   "id": "452ce7e8-66d6-4a87-8102-ad2e83f3d552",
   "metadata": {},
   "outputs": [
    {
     "data": {
      "text/plain": [
       "'tk'"
      ]
     },
     "execution_count": 1,
     "metadata": {},
     "output_type": "execute_result"
    }
   ],
   "source": [
    "from tkinter import *\n",
    "root = Tk()\n",
    "\n",
    "root.title()\n"
   ]
  },
  {
   "cell_type": "code",
   "execution_count": null,
   "id": "d78962ff-e09d-4fbb-bfa5-9834602ddc8c",
   "metadata": {},
   "outputs": [],
   "source": []
  }
 ],
 "metadata": {
  "kernelspec": {
   "display_name": "Python 3",
   "language": "python",
   "name": "python3"
  },
  "language_info": {
   "codemirror_mode": {
    "name": "ipython",
    "version": 3
   },
   "file_extension": ".py",
   "mimetype": "text/x-python",
   "name": "python",
   "nbconvert_exporter": "python",
   "pygments_lexer": "ipython3",
   "version": "3.9.6"
  }
 },
 "nbformat": 4,
 "nbformat_minor": 5
}
